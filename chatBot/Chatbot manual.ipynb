{
 "cells": [
  {
   "cell_type": "code",
   "execution_count": 1,
   "metadata": {},
   "outputs": [],
   "source": [
    "import nltk\n",
    "import numpy as np\n",
    "import random\n",
    "import string"
   ]
  },
  {
   "cell_type": "markdown",
   "metadata": {},
   "source": [
    "# 1 DEFINICIÓN CORPUS"
   ]
  },
  {
   "cell_type": "code",
   "execution_count": 2,
   "metadata": {},
   "outputs": [
    {
     "data": {
      "text/plain": [
       "'El machine learning es una rama de la inteligencia artificial que se enfoca en desarrollar algoritmos y técnicas que permiten a los sistemas aprender y mejorar automáticamente a través de la experiencia. A diferencia de los sistemas tradicionales, que son programados para realizar tareas específicas, los sistemas de machine learning son entrenados con datos y se les permite aprender por sí mismos.\\n\\nExisten diferentes tipos de técnicas de machine learning, incluyendo el aprendizaje supervisado, el aprendizaje no supervisado y el aprendizaje por refuerzo. En el aprendizaje supervisado, los sistemas aprenden a través de ejemplos etiquetados y se utilizan para predecir valores en nuevos datos. En el aprendizaje no supervisado, los sistemas encuentran patrones y relaciones en los datos sin una etiqueta previa. En el aprendizaje por refuerzo, los sistemas aprenden a través de la retroalimentación de un entorno, lo que les permite tomar decisiones y mejorar su rendimiento.\\n\\nEl machine learning tiene aplicaciones en una amplia variedad de campos, incluyendo el análisis de datos, la visión por computadora, el procesamiento del lenguaje natural, la robótica y la automatización. Se utiliza para desarrollar sistemas de recomendación, detectar fraudes, predecir el comportamiento del consumidor, automatizar procesos de producción y mucho más.\\n\\nA medida que el volumen de datos y la complejidad de las tareas aumentan, el machine learning se ha convertido en una herramienta esencial para muchas empresas y organizaciones. A través de técnicas avanzadas de aprendizaje automático, los sistemas pueden detectar patrones y tendencias en los datos que de otra manera serían imposibles de identificar, lo que permite a las empresas tomar decisiones más informadas y mejorar su rendimiento.```\\n\\nPuedes guardar este texto en un archivo de texto plano con el nombre \"machine_learning.txt\" y luego usar el siguiente código para leer el archivo y tokenizar el texto con la librería NLTK:\\n'"
      ]
     },
     "execution_count": 2,
     "metadata": {},
     "output_type": "execute_result"
    }
   ],
   "source": [
    "f=open(r'Corpus_2.txt','r',errors = 'ignore')\n",
    "raw=f.read()\n",
    "raw"
   ]
  },
  {
   "cell_type": "markdown",
   "metadata": {},
   "source": [
    "# 2a Preprocesamiento del Texto con NTLK CORPUS"
   ]
  },
  {
   "cell_type": "code",
   "execution_count": 3,
   "metadata": {},
   "outputs": [],
   "source": [
    "raw=raw.lower()# convertir en minúscula\n",
    "#nltk.download('punkt') # Instalar módulo punkt si no está ya instalado (solo ejecutar la primera vez)\n",
    "#nltk.download('wordnet') # Instalar módulo wordnet si no está ya instalado (solo ejecutar la primera vez)\n",
    "sent_tokens = nltk.sent_tokenize(raw)# Convierte el CORPUS a una lista de sentencias\n",
    "word_tokens = nltk.word_tokenize(raw)# Convierte el CORPUS a una lista de palabras\n",
    "lemmer = nltk.stem.WordNetLemmatizer()\n",
    "\n",
    "#WordNet diccionario semántico incluido en NLTK\n",
    "def LemTokens(tokens):\n",
    "    return [lemmer.lemmatize(token) for token in tokens]\n",
    "\n",
    "remove_punct_dict = dict((ord(punct), None) for punct in string.punctuation)\n",
    "def LemNormalize(text):\n",
    "    return LemTokens(nltk.word_tokenize(text.lower().translate(remove_punct_dict)))"
   ]
  },
  {
   "cell_type": "markdown",
   "metadata": {},
   "source": [
    "# 2b PREPROCESAMIENTO DEL TEXTO + 3 Evaluar Similitud MENSAJE USUARIO - CORPUS"
   ]
  },
  {
   "cell_type": "code",
   "execution_count": 4,
   "metadata": {},
   "outputs": [],
   "source": [
    "from sklearn.feature_extraction.text import TfidfVectorizer\n",
    "from sklearn.metrics.pairwise import cosine_similarity\n",
    "from nltk.corpus import stopwords\n",
    "\n",
    "#Función para determinar la similitud del texto insertado y el corpus\n",
    "def response(user_response):\n",
    "    robo_response=''\n",
    "    sent_tokens.append(user_response) #Añade al corpus la respuesta de usuario al final\n",
    "    TfidfVec = TfidfVectorizer(tokenizer=LemNormalize, stop_words=stopwords.words('spanish'))\n",
    "    tfidf = TfidfVec.fit_transform(sent_tokens)\n",
    "    # 3 EVALUAR SIMILITUD DE COSENO ENTRE MENSAJE USUARIO (tfidf[-1]) y el CORPUS (tfidf)\n",
    "    vals = cosine_similarity(tfidf[-1], tfidf)\n",
    "    idx=vals.argsort()[0][-2]\n",
    "    flat = vals.flatten()\n",
    "    flat.sort()\n",
    "    req_tfidf = flat[-2]\n",
    "    \n",
    "    if(req_tfidf==0):\n",
    "        robo_response=robo_response+\"Lo siento, no te he entendido. Si no puedo responder a lo que busca póngase en contacto con soporte@soporte.com\"\n",
    "        return robo_response\n",
    "\n",
    "    else:\n",
    "        robo_response = robo_response+sent_tokens[idx]\n",
    "        return robo_response"
   ]
  },
  {
   "cell_type": "markdown",
   "metadata": {},
   "source": [
    "# 4 DEFINICIÓN DE COINCIDENCIAS MANUAL"
   ]
  },
  {
   "cell_type": "code",
   "execution_count": 5,
   "metadata": {},
   "outputs": [],
   "source": [
    "SALUDOS_INPUTS = (\"hola\", \"buenas\", \"saludos\", \"qué tal\", \"hey\",\"buenos dias\",)\n",
    "SALUDOS_OUTPUTS = [\"Hola\", \"Hola, ¿Qué tal?\", \"Hola, ¿Cómo te puedo ayudar?\", \"Hola, encantado de hablar contigo\"]\n",
    "\n",
    "def saludos(sentence):\n",
    "    for word in sentence.split():\n",
    "        if word.lower() in SALUDOS_INPUTS:\n",
    "            return random.choice(SALUDOS_OUTPUTS)"
   ]
  },
  {
   "cell_type": "markdown",
   "metadata": {},
   "source": [
    "# 5 GENERACIÓN DE RESPUESTA"
   ]
  },
  {
   "cell_type": "code",
   "execution_count": null,
   "metadata": {},
   "outputs": [
    {
     "name": "stdout",
     "output_type": "stream",
     "text": [
      "ROBOT: Mi nombre es ROBOT. Contestaré a tus preguntas acerca de sus vacaciones en el crucero. Si quieres salir, escribe 'salir' \n"
     ]
    },
    {
     "name": "stdin",
     "output_type": "stream",
     "text": [
      " que es machine learning\n"
     ]
    },
    {
     "name": "stdout",
     "output_type": "stream",
     "text": [
      "ROBOT: a diferencia de los sistemas tradicionales, que son programados para realizar tareas específicas, los sistemas de machine learning son entrenados con datos y se les permite aprender por sí mismos.\n"
     ]
    }
   ],
   "source": [
    "flag=True\n",
    "print(\"ROBOT: Mi nombre es ROBOT. Contestaré a tus preguntas acerca de sus vacaciones en el crucero. Si quieres salir, escribe 'salir' \")\n",
    "while(flag==True):\n",
    "    user_response = input()\n",
    "    user_response = user_response.lower() #Convertimos a minúscula\n",
    "    \n",
    "    if(user_response!='salir'):\n",
    "        \n",
    "        if(user_response=='gracias' or user_response=='muchas gracias'): #Se podría haber definido otra función de coincidencia manual\n",
    "            flag=True\n",
    "            print(\"ROBOT: No hay de qué\")\n",
    "            \n",
    "        else:\n",
    "            if(saludos(user_response)!=None): #Si la palabra insertada por el usuario es un saludo (Coincidencias manuales definidas previamente)\n",
    "                print(\"ROBOT: \"+saludos(user_response))\n",
    "                \n",
    "            else: #Si la palabra insertada no es un saludo --> CORPUS\n",
    "                print(\"ROBOT: \",end=\"\") \n",
    "                print(response(user_response))\n",
    "                sent_tokens.remove(user_response) # para eliminar del corpus la respuesta del usuario y volver a evaluar con el CORPUS limpio\n",
    "    else:\n",
    "        flag=False\n",
    "        print(\"ROBOT: Nos vemos pronto, ¡cuídate!\")"
   ]
  },
  {
   "cell_type": "code",
   "execution_count": null,
   "metadata": {},
   "outputs": [],
   "source": []
  },
  {
   "cell_type": "code",
   "execution_count": null,
   "metadata": {},
   "outputs": [],
   "source": []
  }
 ],
 "metadata": {
  "kernelspec": {
   "display_name": "Python 3 (ipykernel)",
   "language": "python",
   "name": "python3"
  },
  "language_info": {
   "codemirror_mode": {
    "name": "ipython",
    "version": 3
   },
   "file_extension": ".py",
   "mimetype": "text/x-python",
   "name": "python",
   "nbconvert_exporter": "python",
   "pygments_lexer": "ipython3",
   "version": "3.9.13"
  }
 },
 "nbformat": 4,
 "nbformat_minor": 4
}
